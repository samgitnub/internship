{
  "nbformat": 4,
  "nbformat_minor": 0,
  "metadata": {
    "colab": {
      "provenance": [],
      "authorship_tag": "ABX9TyN8wvhnDEfoudv27qwzWWZS",
      "include_colab_link": true
    },
    "kernelspec": {
      "name": "python3",
      "display_name": "Python 3"
    },
    "language_info": {
      "name": "python"
    }
  },
  "cells": [
    {
      "cell_type": "markdown",
      "metadata": {
        "id": "view-in-github",
        "colab_type": "text"
      },
      "source": [
        "<a href=\"https://colab.research.google.com/github/samgitnub/internship/blob/main/Automation_task.ipynb\" target=\"_parent\"><img src=\"https://colab.research.google.com/assets/colab-badge.svg\" alt=\"Open In Colab\"/></a>"
      ]
    },
    {
      "cell_type": "code",
      "source": [
        "import os\n",
        "import shutil\n",
        "import requests\n",
        "from bs4 import BeautifulSoup\n",
        "\n",
        "def web_scraping_task():\n",
        "    # URL of the website to scrape (replace with an actual URL you have permission to scrape)\n",
        "    url = 'https://example.com/products'\n",
        "\n",
        "    try:\n",
        "        response = requests.get(url)\n",
        "        response.raise_for_status()  # Check if the request was successful\n",
        "\n",
        "        # Parse the HTML content\n",
        "        soup = BeautifulSoup(response.content, 'html.parser')\n",
        "\n",
        "        # Extract specific data\n",
        "        products = []\n",
        "        for product in soup.select('.product-item'):\n",
        "            name = product.select_one('.product-name').text\n",
        "            price = product.select_one('.product-price').text\n",
        "            products.append((name, price))\n",
        "\n",
        "        # Display results\n",
        "        print(\"Scraped Product Data:\")\n",
        "        for name, price in products:\n",
        "            print(f'Product: {name}, Price: {price}')\n",
        "    except requests.exceptions.RequestException as e:\n",
        "        print(f\"An error occurred while trying to scrape data: {e}\")\n",
        "\n",
        "def file_organization_task():\n",
        "    # Define source and destination folders\n",
        "    source_folder = '/path/to/source'  # Replace with your actual source path\n",
        "    destination_folder = '/path/to/destination'  # Replace with your actual destination path\n",
        "\n",
        "    # Ensure source folder exists\n",
        "    if not os.path.exists(source_folder):\n",
        "        os.makedirs(source_folder)\n",
        "        print(f\"Source folder '{source_folder}' created.\")\n",
        "    else:\n",
        "        print(f\"Source folder '{source_folder}' already exists.\")\n",
        "\n",
        "    # Organize files by their type (extension)\n",
        "    print(\"Organizing files by type...\")\n",
        "    for filename in os.listdir(source_folder):\n",
        "        file_path = os.path.join(source_folder, filename)\n",
        "        if os.path.isfile(file_path):\n",
        "            ext = filename.split('.')[-1]  # Get the file extension\n",
        "            target_folder = os.path.join(destination_folder, ext)\n",
        "            os.makedirs(target_folder, exist_ok=True)  # Create target folder if it doesn't exist\n",
        "            shutil.move(file_path, os.path.join(target_folder, filename))\n",
        "            print(f\"Moved {filename} to {target_folder}\")\n",
        "\n",
        "def main():\n",
        "    print(\"Select a task to perform:\")\n",
        "    print(\"1. Web Scraping\")\n",
        "    print(\"2. File Organization\")\n",
        "    choice = input(\"Enter your choice (1 or 2): \")\n",
        "\n",
        "    if choice == '1':\n",
        "        web_scraping_task()\n",
        "    elif choice == '2':\n",
        "        file_organization_task()\n",
        "    else:\n",
        "        print(\"Invalid choice. Please select 1 or 2.\")\n",
        "\n",
        "if __name__ == \"__main__\":\n",
        "    main()\n"
      ],
      "metadata": {
        "colab": {
          "base_uri": "https://localhost:8080/"
        },
        "id": "YNPWFA2G_a-R",
        "outputId": "f2dc9841-e715-4276-b9fa-6ad2d5206c8a"
      },
      "execution_count": 9,
      "outputs": [
        {
          "output_type": "stream",
          "name": "stdout",
          "text": [
            "Select a task to perform:\n",
            "1. Web Scraping\n",
            "2. File Organization\n",
            "Enter your choice (1 or 2): 2\n",
            "Source folder '/path/to/source' already exists.\n",
            "Organizing files by type...\n"
          ]
        }
      ]
    }
  ]
}